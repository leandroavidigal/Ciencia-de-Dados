{
 "cells": [
  {
   "cell_type": "markdown",
   "metadata": {},
   "source": [
    "# **📌 Análise de Dados de Vestibular e Vacinação com Pandas**\n",
    "\n",
    "## **📖 Introdução**\n",
    "A análise de dados desempenha um papel fundamental na tomada de decisões em diversas áreas, como **educação** e **saúde pública**. Neste estudo, exploramos dois conjuntos de dados distintos: **resultados de vestibular** e **registro de vacinação no Acre**, aplicando técnicas avançadas de **manipulação de dados com Pandas e NumPy**.\n",
    "\n",
    "Os principais objetivos deste projeto são:\n",
    "- **Analisar os resultados de um vestibular**, identificando padrões de acertos e reprovações.\n",
    "- **Determinar a quantidade de alunos aprovados para a segunda fase** com base em critérios de corte.\n",
    "- **Explorar dados de vacinação**, avaliando o número de vacinas aplicadas, a idade dos vacinados e os estabelecimentos responsáveis pela vacinação.\n",
    "- **Identificar padrões de vacinação de menores de idade** e consolidar informações sobre os locais de aplicação.\n",
    "\n",
    "Ao longo deste projeto, utilizamos operações vetorizadas para tornar os cálculos mais eficientes, além de métodos de indexação, filtragem e agregação no Pandas. \n",
    "\n",
    "---"
   ]
  },
  {
   "cell_type": "markdown",
   "metadata": {},
   "source": [
    "## **📊 1️⃣ Análise de Resultados do Vestibular**\n",
    "O primeiro conjunto de dados refere-se ao desempenho de **100 alunos** em um vestibular para um curso de exatas. Os candidatos responderam a questões de sete disciplinas com a seguinte distribuição:\n",
    "\n",
    "| **Disciplina**  | **Número de Questões** |\n",
    "|----------------|----------------------|\n",
    "| Matemática     | 24                   |\n",
    "| Português      | 18                   |\n",
    "| Geografia      | 8                    |\n",
    "| Inglês        | 8                    |\n",
    "| História      | 8                    |\n",
    "| Física        | 12                   |\n",
    "| Química       | 12                   |\n",
    "\n",
    "A partir desses dados, realizamos as seguintes análises:\n",
    "\n",
    "1️⃣ **Cálculo do percentual de acertos por disciplina.**  \n",
    "2️⃣ **Cálculo do total de acertos por aluno e seu percentual geral.**  \n",
    "3️⃣ **Determinação da quantidade de alunos aprovados para a segunda fase.**  \n",
    "4️⃣ **Identificação de alunos desqualificados** por terem zerado em disciplinas específicas.\n",
    "\n",
    "### **📌 Percentual de Acertos por Disciplina**\n",
    "Cada aluno teve seu percentual de acertos calculado por disciplina, normalizando os valores de acordo com o total de questões."
   ]
  },
  {
   "cell_type": "code",
   "execution_count": 9,
   "metadata": {},
   "outputs": [],
   "source": [
    "import pandas as pd\n",
    "import numpy as np"
   ]
  },
  {
   "cell_type": "code",
   "execution_count": 11,
   "metadata": {},
   "outputs": [],
   "source": [
    "np.random.seed(42)"
   ]
  },
  {
   "cell_type": "markdown",
   "metadata": {},
   "source": [
    "**np.random.seed(42)** define a semente do gerador de números aleatórios do NumPy para 42. \n",
    "Isso garante que os números gerados aleatoriamente serão os mesmos em cada execução do código."
   ]
  },
  {
   "cell_type": "code",
   "execution_count": 13,
   "metadata": {},
   "outputs": [],
   "source": [
    "df_mat = pd.DataFrame(np.random.randint(24, size=(100, 1)), columns=['Qt_acertos'])\n",
    "df_por = pd.DataFrame(np.random.randint(18, size=(100, 1)), columns=['Qt_acertos'])\n",
    "df_geo = pd.DataFrame(np.random.randint(8, size=(100, 1)), columns=['Qt_acertos'])\n",
    "df_ing = pd.DataFrame(np.random.randint(8, size=(100, 1)), columns=['Qt_acertos'])\n",
    "df_his = pd.DataFrame(np.random.randint(8, size=(100, 1)), columns=['Qt_acertos'])\n",
    "df_fis = pd.DataFrame(np.random.randint(12, size=(100, 1)), columns=['Qt_acertos'])\n",
    "df_qui = pd.DataFrame(np.random.randint(12, size=(100, 1)), columns=['Qt_acertos']) "
   ]
  },
  {
   "cell_type": "markdown",
   "metadata": {},
   "source": [
    "As linhas acima criam sete DataFrames diferentes (df_mat, df_por, df_geo, df_ing, df_his, df_fis e df_qui) que armazenam uma coluna de 100 números inteiros aleatórios cada. A função np.random.randint() é usada para gerar esses números aleatórios e os parâmetros size e columns são usados para definir o tamanho do DataFrame e o nome da coluna, respectivamente. Cada DataFrame representa a quantidade de acertos dos alunos em um determinado assunto."
   ]
  },
  {
   "cell_type": "code",
   "execution_count": 15,
   "metadata": {},
   "outputs": [],
   "source": [
    "pc_mat = df_mat / 24\n",
    "pc_por = df_por / 18\n",
    "pc_geo = df_geo / 8\n",
    "pc_ing = df_ing / 8\n",
    "pc_his = df_his / 8\n",
    "pc_fis = df_fis / 12\n",
    "pc_qui = df_qui / 12"
   ]
  },
  {
   "cell_type": "code",
   "execution_count": 19,
   "metadata": {},
   "outputs": [
    {
     "name": "stdout",
     "output_type": "stream",
     "text": [
      "    Matemática (%)  Português (%)  Geografia (%)  Inglês (%)  História (%)  \\\n",
      "0         0.250000       0.388889          0.875       0.375         0.125   \n",
      "1         0.791667       0.555556          0.000       0.000         0.000   \n",
      "2         0.583333       0.888889          0.000       0.625         0.875   \n",
      "3         0.416667       0.388889          0.375       0.500         0.000   \n",
      "4         0.291667       0.111111          0.250       0.875         0.000   \n",
      "..             ...            ...            ...         ...           ...   \n",
      "95        0.250000       0.222222          0.875       0.125         0.500   \n",
      "96        0.333333       0.055556          0.500       0.750         0.125   \n",
      "97        0.958333       0.277778          0.000       0.250         0.500   \n",
      "98        0.000000       0.555556          0.375       0.125         0.625   \n",
      "99        0.458333       0.833333          0.000       0.125         0.750   \n",
      "\n",
      "    Física (%)  Química (%)  \n",
      "0     0.666667     0.250000  \n",
      "1     0.916667     0.666667  \n",
      "2     0.333333     0.333333  \n",
      "3     0.000000     0.666667  \n",
      "4     0.750000     0.250000  \n",
      "..         ...          ...  \n",
      "95    0.750000     0.250000  \n",
      "96    0.333333     0.250000  \n",
      "97    0.083333     0.416667  \n",
      "98    0.833333     0.916667  \n",
      "99    0.583333     0.166667  \n",
      "\n",
      "[100 rows x 7 columns]\n"
     ]
    }
   ],
   "source": [
    "df_percentual = pd.concat([pc_mat, pc_por, pc_geo, pc_ing, pc_his, pc_fis, pc_qui], axis=1)\n",
    "df_percentual.columns = ['Matemática (%)', 'Português (%)', 'Geografia (%)', 'Inglês (%)', 'História (%)', 'Física (%)', 'Química (%)']\n",
    "print(df_percentual)"
   ]
  },
  {
   "cell_type": "markdown",
   "metadata": {},
   "source": [
    "📌 **Resultado:** Criamos um DataFrame mostrando o percentual de acertos por disciplina para cada aluno."
   ]
  },
  {
   "cell_type": "markdown",
   "metadata": {},
   "source": [
    "### **📌 Total de Acertos e Percentual Geral**\n",
    "Após calcular os acertos individuais, somamos os valores para obter o total de acertos de cada aluno:"
   ]
  },
  {
   "cell_type": "code",
   "execution_count": 23,
   "metadata": {},
   "outputs": [],
   "source": [
    "total = df_mat + df_por + df_geo + df_ing + df_his + df_fis + df_qui"
   ]
  },
  {
   "cell_type": "markdown",
   "metadata": {},
   "source": [
    "Em seguida, calculamos o **percentual geral** de acertos de cada aluno:"
   ]
  },
  {
   "cell_type": "code",
   "execution_count": 26,
   "metadata": {
    "scrolled": true
   },
   "outputs": [
    {
     "data": {
      "text/html": [
       "<div>\n",
       "<style scoped>\n",
       "    .dataframe tbody tr th:only-of-type {\n",
       "        vertical-align: middle;\n",
       "    }\n",
       "\n",
       "    .dataframe tbody tr th {\n",
       "        vertical-align: top;\n",
       "    }\n",
       "\n",
       "    .dataframe thead th {\n",
       "        text-align: right;\n",
       "    }\n",
       "</style>\n",
       "<table border=\"1\" class=\"dataframe\">\n",
       "  <thead>\n",
       "    <tr style=\"text-align: right;\">\n",
       "      <th></th>\n",
       "      <th>Qt_acertos</th>\n",
       "    </tr>\n",
       "  </thead>\n",
       "  <tbody>\n",
       "    <tr>\n",
       "      <th>0</th>\n",
       "      <td>0.388889</td>\n",
       "    </tr>\n",
       "    <tr>\n",
       "      <th>1</th>\n",
       "      <td>0.533333</td>\n",
       "    </tr>\n",
       "    <tr>\n",
       "      <th>2</th>\n",
       "      <td>0.555556</td>\n",
       "    </tr>\n",
       "    <tr>\n",
       "      <th>3</th>\n",
       "      <td>0.355556</td>\n",
       "    </tr>\n",
       "    <tr>\n",
       "      <th>4</th>\n",
       "      <td>0.333333</td>\n",
       "    </tr>\n",
       "    <tr>\n",
       "      <th>...</th>\n",
       "      <td>...</td>\n",
       "    </tr>\n",
       "    <tr>\n",
       "      <th>95</th>\n",
       "      <td>0.377778</td>\n",
       "    </tr>\n",
       "    <tr>\n",
       "      <th>96</th>\n",
       "      <td>0.300000</td>\n",
       "    </tr>\n",
       "    <tr>\n",
       "      <th>97</th>\n",
       "      <td>0.444444</td>\n",
       "    </tr>\n",
       "    <tr>\n",
       "      <th>98</th>\n",
       "      <td>0.444444</td>\n",
       "    </tr>\n",
       "    <tr>\n",
       "      <th>99</th>\n",
       "      <td>0.466667</td>\n",
       "    </tr>\n",
       "  </tbody>\n",
       "</table>\n",
       "<p>100 rows × 1 columns</p>\n",
       "</div>"
      ],
      "text/plain": [
       "    Qt_acertos\n",
       "0     0.388889\n",
       "1     0.533333\n",
       "2     0.555556\n",
       "3     0.355556\n",
       "4     0.333333\n",
       "..         ...\n",
       "95    0.377778\n",
       "96    0.300000\n",
       "97    0.444444\n",
       "98    0.444444\n",
       "99    0.466667\n",
       "\n",
       "[100 rows x 1 columns]"
      ]
     },
     "execution_count": 26,
     "metadata": {},
     "output_type": "execute_result"
    }
   ],
   "source": [
    "total / 90"
   ]
  },
  {
   "cell_type": "markdown",
   "metadata": {},
   "source": [
    "✅ **Benefício:** Essa análise nos permite classificar os alunos por desempenho geral."
   ]
  },
  {
   "cell_type": "markdown",
   "metadata": {},
   "source": [
    "### **📌 Determinação dos Aprovados para a Segunda Fase**\n",
    "A nota de corte para a segunda fase foi estabelecida em **45 pontos**. Para identificar os alunos aprovados, aplicamos um filtro ao DataFrame:"
   ]
  },
  {
   "cell_type": "code",
   "execution_count": 30,
   "metadata": {},
   "outputs": [
    {
     "data": {
      "text/plain": [
       "Qt_acertos    31\n",
       "dtype: int64"
      ]
     },
     "execution_count": 30,
     "metadata": {},
     "output_type": "execute_result"
    }
   ],
   "source": [
    "total_gt_45 = total[total['Qt_acertos'] > 45]\n",
    "total_gt_45.count()"
   ]
  },
  {
   "cell_type": "markdown",
   "metadata": {},
   "source": [
    "📌 **Resultado:** **31 alunos** atingiram a nota mínima e avançaram para a próxima fase."
   ]
  },
  {
   "cell_type": "markdown",
   "metadata": {},
   "source": [
    "### **📌 Identificação de Alunos Desqualificados**\n",
    "Os alunos que **zeraram em Matemática, Física ou Química** foram eliminados do vestibular. Para identificá-los, utilizamos um filtro lógico:"
   ]
  },
  {
   "cell_type": "code",
   "execution_count": 41,
   "metadata": {},
   "outputs": [
    {
     "data": {
      "text/html": [
       "<div>\n",
       "<style scoped>\n",
       "    .dataframe tbody tr th:only-of-type {\n",
       "        vertical-align: middle;\n",
       "    }\n",
       "\n",
       "    .dataframe tbody tr th {\n",
       "        vertical-align: top;\n",
       "    }\n",
       "\n",
       "    .dataframe thead th {\n",
       "        text-align: right;\n",
       "    }\n",
       "</style>\n",
       "<table border=\"1\" class=\"dataframe\">\n",
       "  <thead>\n",
       "    <tr style=\"text-align: right;\">\n",
       "      <th></th>\n",
       "      <th>Qt_acertos</th>\n",
       "    </tr>\n",
       "  </thead>\n",
       "  <tbody>\n",
       "    <tr>\n",
       "      <th>3</th>\n",
       "      <td>32</td>\n",
       "    </tr>\n",
       "    <tr>\n",
       "      <th>6</th>\n",
       "      <td>29</td>\n",
       "    </tr>\n",
       "    <tr>\n",
       "      <th>10</th>\n",
       "      <td>31</td>\n",
       "    </tr>\n",
       "    <tr>\n",
       "      <th>12</th>\n",
       "      <td>42</td>\n",
       "    </tr>\n",
       "    <tr>\n",
       "      <th>14</th>\n",
       "      <td>31</td>\n",
       "    </tr>\n",
       "    <tr>\n",
       "      <th>20</th>\n",
       "      <td>53</td>\n",
       "    </tr>\n",
       "    <tr>\n",
       "      <th>25</th>\n",
       "      <td>27</td>\n",
       "    </tr>\n",
       "    <tr>\n",
       "      <th>26</th>\n",
       "      <td>40</td>\n",
       "    </tr>\n",
       "    <tr>\n",
       "      <th>27</th>\n",
       "      <td>50</td>\n",
       "    </tr>\n",
       "    <tr>\n",
       "      <th>33</th>\n",
       "      <td>39</td>\n",
       "    </tr>\n",
       "    <tr>\n",
       "      <th>35</th>\n",
       "      <td>48</td>\n",
       "    </tr>\n",
       "    <tr>\n",
       "      <th>49</th>\n",
       "      <td>19</td>\n",
       "    </tr>\n",
       "    <tr>\n",
       "      <th>56</th>\n",
       "      <td>39</td>\n",
       "    </tr>\n",
       "    <tr>\n",
       "      <th>65</th>\n",
       "      <td>24</td>\n",
       "    </tr>\n",
       "    <tr>\n",
       "      <th>66</th>\n",
       "      <td>31</td>\n",
       "    </tr>\n",
       "    <tr>\n",
       "      <th>72</th>\n",
       "      <td>50</td>\n",
       "    </tr>\n",
       "    <tr>\n",
       "      <th>73</th>\n",
       "      <td>37</td>\n",
       "    </tr>\n",
       "    <tr>\n",
       "      <th>74</th>\n",
       "      <td>39</td>\n",
       "    </tr>\n",
       "    <tr>\n",
       "      <th>84</th>\n",
       "      <td>26</td>\n",
       "    </tr>\n",
       "    <tr>\n",
       "      <th>89</th>\n",
       "      <td>63</td>\n",
       "    </tr>\n",
       "    <tr>\n",
       "      <th>92</th>\n",
       "      <td>40</td>\n",
       "    </tr>\n",
       "    <tr>\n",
       "      <th>94</th>\n",
       "      <td>25</td>\n",
       "    </tr>\n",
       "    <tr>\n",
       "      <th>98</th>\n",
       "      <td>40</td>\n",
       "    </tr>\n",
       "  </tbody>\n",
       "</table>\n",
       "</div>"
      ],
      "text/plain": [
       "    Qt_acertos\n",
       "3           32\n",
       "6           29\n",
       "10          31\n",
       "12          42\n",
       "14          31\n",
       "20          53\n",
       "25          27\n",
       "26          40\n",
       "27          50\n",
       "33          39\n",
       "35          48\n",
       "49          19\n",
       "56          39\n",
       "65          24\n",
       "66          31\n",
       "72          50\n",
       "73          37\n",
       "74          39\n",
       "84          26\n",
       "89          63\n",
       "92          40\n",
       "94          25\n",
       "98          40"
      ]
     },
     "execution_count": 41,
     "metadata": {},
     "output_type": "execute_result"
    }
   ],
   "source": [
    "df_eliminados = total[(df_mat['Qt_acertos'] == 0) | \n",
    "                      (df_fis['Qt_acertos'] == 0) | \n",
    "                      (df_qui['Qt_acertos'] == 0)]\n",
    "\n",
    "df_eliminados"
   ]
  },
  {
   "cell_type": "markdown",
   "metadata": {},
   "source": [
    "📌 **Resultado:** Um subconjunto com os alunos que foram eliminados por não atingirem o critério mínimo."
   ]
  },
  {
   "cell_type": "code",
   "execution_count": 43,
   "metadata": {},
   "outputs": [
    {
     "name": "stdout",
     "output_type": "stream",
     "text": [
      "    Matemática (%)  Física (%)  Química (%)\n",
      "0            False       False        False\n",
      "1            False       False        False\n",
      "2            False       False        False\n",
      "3            False        True        False\n",
      "4            False       False        False\n",
      "..             ...         ...          ...\n",
      "95           False       False        False\n",
      "96           False       False        False\n",
      "97           False       False        False\n",
      "98            True       False        False\n",
      "99           False       False        False\n",
      "\n",
      "[100 rows x 3 columns]\n"
     ]
    }
   ],
   "source": [
    "# concatenando as colunas \n",
    "df_percentual = pd.concat([(df_mat['Qt_acertos'] == 0), (df_fis['Qt_acertos'] == 0), (df_qui['Qt_acertos'] == 0)], axis=1)\n",
    "df_percentual.columns = ['Matemática (%)', 'Física (%)', 'Química (%)']\n",
    "print(df_percentual)"
   ]
  },
  {
   "cell_type": "markdown",
   "metadata": {},
   "source": [
    "## **💉 2️⃣ Análise dos Dados de Vacinação no Acre**\n",
    "O segundo conjunto de dados corresponde a **registros de vacinação no estado do Acre**, obtidos do DATASUS. Este dataset contém informações sobre pacientes vacinados, doses administradas e estabelecimentos aplicadores.\n",
    "\n",
    "A partir desse banco de dados, realizamos as seguintes análises:\n",
    "\n",
    "1️⃣ **Quantidade total de vacinas registradas.**  \n",
    "2️⃣ **Número total de pacientes vacinados.**  \n",
    "3️⃣ **Número de pacientes únicos que tomaram a primeira dose.**  \n",
    "4️⃣ **Pacientes menores de 18 anos vacinados.**  \n",
    "5️⃣ **Número de estabelecimentos responsáveis pela vacinação.**  "
   ]
  },
  {
   "cell_type": "markdown",
   "metadata": {},
   "source": [
    "### **📌 Quantidade de Vacinas Registradas**\n",
    "Para contar o total de vacinas aplicadas no Acre:"
   ]
  },
  {
   "cell_type": "code",
   "execution_count": 49,
   "metadata": {},
   "outputs": [],
   "source": [
    "df = pd.read_csv('registros_de_vacinacao_covid_ACRE.csv', sep=';')"
   ]
  },
  {
   "cell_type": "code",
   "execution_count": 51,
   "metadata": {},
   "outputs": [
    {
     "name": "stdout",
     "output_type": "stream",
     "text": [
      "Número de vacinas registradas: 169071\n"
     ]
    }
   ],
   "source": [
    "n_vacinas = len(df)\n",
    "print(\"Número de vacinas registradas:\", n_vacinas)"
   ]
  },
  {
   "cell_type": "markdown",
   "metadata": {},
   "source": [
    "📌 **Resultado:** **169.071 vacinas** foram registradas na base de dados."
   ]
  },
  {
   "cell_type": "markdown",
   "metadata": {},
   "source": [
    "### **📌 Número de Pacientes Vacinados**\n",
    "Para contar **pacientes únicos**, utilizamos:"
   ]
  },
  {
   "cell_type": "code",
   "execution_count": 55,
   "metadata": {},
   "outputs": [
    {
     "name": "stdout",
     "output_type": "stream",
     "text": [
      "Número de pacientes vacinados: 120517\n"
     ]
    }
   ],
   "source": [
    "n_pacientes = df['paciente_id'].nunique()\n",
    "print(\"Número de pacientes vacinados:\", n_pacientes)"
   ]
  },
  {
   "cell_type": "markdown",
   "metadata": {},
   "source": [
    "📌 **Resultado:** **120.517 pacientes** receberam pelo menos uma dose da vacina."
   ]
  },
  {
   "cell_type": "markdown",
   "metadata": {},
   "source": [
    "### **📌 Identificação de Pacientes Menores de 18 Anos**\n",
    "Podemos filtrar a base para identificar pacientes menores de idade:"
   ]
  },
  {
   "cell_type": "code",
   "execution_count": 61,
   "metadata": {},
   "outputs": [
    {
     "name": "stdout",
     "output_type": "stream",
     "text": [
      "Número de pacientes com menos de 18 anos vacinados: 47\n"
     ]
    }
   ],
   "source": [
    "df_menos_18 = df[df['paciente_idade'] < 18]\n",
    "pacientes_menos_18 = df_menos_18['paciente_id'].nunique()\n",
    "print(\"Número de pacientes com menos de 18 anos vacinados:\", pacientes_menos_18)"
   ]
  },
  {
   "cell_type": "markdown",
   "metadata": {},
   "source": [
    "📌 **Resultado:** Apenas **47 pacientes** com menos de 18 anos receberam a vacina."
   ]
  },
  {
   "cell_type": "markdown",
   "metadata": {},
   "source": [
    "### **📌 Número de Estabelecimentos Responsáveis pela Vacinação**\n",
    "Para saber quantos locais diferentes aplicaram vacinas:"
   ]
  },
  {
   "cell_type": "code",
   "execution_count": 65,
   "metadata": {},
   "outputs": [
    {
     "data": {
      "text/plain": [
       "42"
      ]
     },
     "execution_count": 65,
     "metadata": {},
     "output_type": "execute_result"
    }
   ],
   "source": [
    "df['estabelecimento_razaosocial'].nunique()"
   ]
  },
  {
   "cell_type": "markdown",
   "metadata": {},
   "source": [
    "📌 **Resultado:** **42 estabelecimentos** participaram da campanha de vacinação."
   ]
  },
  {
   "cell_type": "markdown",
   "metadata": {},
   "source": [
    "## **🏥 3️⃣ Análise dos Estabelecimentos que Aplicaram Vacinas em Menores**\n",
    "Além das estatísticas globais, também analisamos **quais estabelecimentos vacinaram menores de 18 anos** e quantas vacinas cada um administrou.\n",
    "\n",
    "Criamos um subconjunto de dados apenas com os registros de menores de idade:"
   ]
  },
  {
   "cell_type": "code",
   "execution_count": 69,
   "metadata": {},
   "outputs": [],
   "source": [
    "df_menores = df[df['paciente_idade'] < 18]"
   ]
  },
  {
   "cell_type": "markdown",
   "metadata": {},
   "source": [
    "Depois, agrupamos os registros por estabelecimento e contamos quantas vacinas foram aplicadas:"
   ]
  },
  {
   "cell_type": "code",
   "execution_count": 72,
   "metadata": {},
   "outputs": [
    {
     "name": "stdout",
     "output_type": "stream",
     "text": [
      "    estabelecimento_valor  qtd_vacinas\n",
      "0                 2000040            2\n",
      "1                 2001314            1\n",
      "2                 2001748            8\n",
      "3                 3323307            1\n",
      "4                 5336171            1\n",
      "5                 6159087            3\n",
      "6                 6308740            2\n",
      "7                 6428940            3\n",
      "8                 6430201            4\n",
      "9                 6612385            2\n",
      "10                6697151            1\n",
      "11                6748759            6\n",
      "12                6917291            4\n",
      "13                6917682            1\n",
      "14                6955525            3\n",
      "15                7123043            1\n",
      "16                7625855            9\n",
      "17                9648968            2\n"
     ]
    }
   ],
   "source": [
    "df_menores_por_estabelecimento = df_menores.groupby('estabelecimento_valor').agg({'vacina_categoria_nome': 'count'}).reset_index()\n",
    "df_menores_por_estabelecimento = df_menores_por_estabelecimento.rename(columns={'vacina_categoria_nome': 'qtd_vacinas'})\n",
    "print(df_menores_por_estabelecimento)"
   ]
  },
  {
   "cell_type": "markdown",
   "metadata": {},
   "source": [
    "📌 **Resultado:** Criamos um DataFrame com **quantidade de vacinas aplicadas por cada estabelecimento**."
   ]
  },
  {
   "cell_type": "markdown",
   "metadata": {},
   "source": [
    "## **📌 Conclusão**\n",
    "Neste estudo, utilizamos **Pandas e NumPy** para manipular e analisar dois conjuntos de dados distintos. As principais conclusões foram:\n",
    "\n",
    "✅ **Vestibular:**\n",
    "- **31 alunos** foram aprovados para a segunda fase.\n",
    "- Alguns alunos foram **desqualificados** por zerar disciplinas essenciais.\n",
    "- O cálculo de **percentuais de acertos e médias** ajudou na avaliação de desempenho.\n",
    "\n",
    "✅ **Vacinação no Acre:**\n",
    "- Foram **registradas 169.071 doses** de vacinas.\n",
    "- **120.517 pacientes** receberam pelo menos uma dose.\n",
    "- Apenas **47 menores de idade** foram vacinados.\n",
    "- **42 estabelecimentos** participaram da aplicação de vacinas.\n",
    "\n",
    "📌 **Este projeto demonstrou como manipular, filtrar e analisar grandes conjuntos de dados de maneira eficiente, utilizando técnicas avançadas de ciência de dados.** 🚀"
   ]
  }
 ],
 "metadata": {
  "colab": {
   "provenance": []
  },
  "kernelspec": {
   "display_name": "Python [conda env:base] *",
   "language": "python",
   "name": "conda-base-py"
  },
  "language_info": {
   "codemirror_mode": {
    "name": "ipython",
    "version": 3
   },
   "file_extension": ".py",
   "mimetype": "text/x-python",
   "name": "python",
   "nbconvert_exporter": "python",
   "pygments_lexer": "ipython3",
   "version": "3.12.7"
  },
  "toc": {
   "base_numbering": 1,
   "nav_menu": {},
   "number_sections": false,
   "sideBar": true,
   "skip_h1_title": true,
   "title_cell": "Índice",
   "title_sidebar": "Conteúdo",
   "toc_cell": false,
   "toc_position": {},
   "toc_section_display": true,
   "toc_window_display": false
  },
  "varInspector": {
   "cols": {
    "lenName": 16,
    "lenType": 16,
    "lenVar": 40
   },
   "kernels_config": {
    "python": {
     "delete_cmd_postfix": "",
     "delete_cmd_prefix": "del ",
     "library": "var_list.py",
     "varRefreshCmd": "print(var_dic_list())"
    },
    "r": {
     "delete_cmd_postfix": ") ",
     "delete_cmd_prefix": "rm(",
     "library": "var_list.r",
     "varRefreshCmd": "cat(var_dic_list()) "
    }
   },
   "types_to_exclude": [
    "module",
    "function",
    "builtin_function_or_method",
    "instance",
    "_Feature"
   ],
   "window_display": false
  }
 },
 "nbformat": 4,
 "nbformat_minor": 4
}

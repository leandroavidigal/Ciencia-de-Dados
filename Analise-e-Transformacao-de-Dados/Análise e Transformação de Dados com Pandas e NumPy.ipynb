{
 "cells": [
  {
   "cell_type": "markdown",
   "metadata": {},
   "source": [
    "# **📌 Análise e Transformação de Dados com Pandas e NumPy**\n",
    "\n",
    "## **📖 Introdução**\n",
    "A análise e manipulação de dados desempenham um papel fundamental na ciência de dados e em áreas relacionadas. O uso de **bibliotecas como Pandas e NumPy** facilita a criação, transformação e extração de insights a partir de conjuntos de dados estruturados.\n",
    "\n",
    "Este projeto explora conceitos essenciais, incluindo:\n",
    "- **Criação de séries e DataFrames no Pandas** a partir de listas e dicionários.\n",
    "- **Indexação e extração de dados** para facilitar análises temporais.\n",
    "- **Transformação de arrays NumPy** em DataFrames Pandas.\n",
    "- **Manipulação de índices e colunas** para otimizar a estrutura dos dados.\n",
    "- **Aplicação de operações estatísticas**, incluindo cálculo de médias e logaritmos.\n",
    "\n",
    "Os dados utilizados incluem anomalias térmicas ao longo das décadas e um conjunto de números aleatórios gerados para simular uma distribuição normal. \n",
    "\n",
    "Ao longo deste estudo, serão demonstradas abordagens práticas e eficientes para manipular conjuntos de dados, reforçando boas práticas na ciência de dados.\n",
    "\n",
    "---"
   ]
  },
  {
   "cell_type": "markdown",
   "metadata": {},
   "source": [
    "## **1️⃣ Criando Séries no Pandas**\n",
    "### **Criação de uma Série a partir de uma Lista**\n",
    "A NASA disponibiliza um conjunto de dados contendo **anomalias térmicas globais** registradas ao longo de décadas. Os dados representam variações de temperatura média da superfície terrestre em relação ao período base de **1951-1980**.\n",
    "\n",
    "A tabela abaixo apresenta essas diferenças de temperatura:\n",
    "\n",
    "|Ano|Anomalia térmica|\n",
    "|:-:|:----:|\n",
    "| 1900 | -0.08 |\n",
    "| 1920 | -0.27 |\n",
    "| 1940 | 0.12 |\n",
    "| 1960 | -0.03 |\n",
    "| 1980 | 0.26 |\n",
    "| 2000 | 0.40 |\n",
    "| 2020 | 1.02 |\n",
    "\n",
    "Criamos uma **Série do Pandas** para armazenar esses dados:"
   ]
  },
  {
   "cell_type": "code",
   "execution_count": 7,
   "metadata": {
    "scrolled": true
   },
   "outputs": [
    {
     "data": {
      "text/plain": [
       "0   -0.08\n",
       "1   -0.27\n",
       "2    0.12\n",
       "3   -0.03\n",
       "4    0.26\n",
       "5    0.40\n",
       "6    1.02\n",
       "dtype: float64"
      ]
     },
     "execution_count": 7,
     "metadata": {},
     "output_type": "execute_result"
    }
   ],
   "source": [
    "import pandas as pd\n",
    "\n",
    "anomalia_termica = [-0.08, -0.27, 0.12, -0.03, 0.26, 0.40, 1.02]\n",
    "anomaliaSemIndex = pd.Series(data=anomalia_termica)\n",
    "anomaliaSemIndex"
   ]
  },
  {
   "cell_type": "markdown",
   "metadata": {},
   "source": [
    "**Resultado:** Uma série Pandas sem índice explícito."
   ]
  },
  {
   "cell_type": "markdown",
   "metadata": {},
   "source": [
    "### **Adicionando Índices Personalizados**\n",
    "Para permitir **consultas temporais** mais intuitivas, adicionamos os anos como índice:"
   ]
  },
  {
   "cell_type": "code",
   "execution_count": 11,
   "metadata": {},
   "outputs": [
    {
     "data": {
      "text/plain": [
       "1900   -0.08\n",
       "1920   -0.27\n",
       "1940    0.12\n",
       "1960   -0.03\n",
       "1980    0.26\n",
       "2000    0.40\n",
       "2020    1.02\n",
       "dtype: float64"
      ]
     },
     "execution_count": 11,
     "metadata": {},
     "output_type": "execute_result"
    }
   ],
   "source": [
    "indice = ['1900', '1920', '1940', '1960', '1980', '2000', '2020']\n",
    "anomaliaComIndex = pd.Series(data=anomalia_termica, index=indice)\n",
    "anomaliaComIndex"
   ]
  },
  {
   "cell_type": "markdown",
   "metadata": {},
   "source": [
    "✅ **Benefício**: Agora podemos recuperar valores diretamente pelos anos."
   ]
  },
  {
   "cell_type": "markdown",
   "metadata": {},
   "source": [
    "#### **Extraindo Valores Específicos**\n",
    "Podemos selecionar intervalos de tempo com **indexação por fatia**:"
   ]
  },
  {
   "cell_type": "code",
   "execution_count": 15,
   "metadata": {},
   "outputs": [
    {
     "data": {
      "text/plain": [
       "1920   -0.27\n",
       "1940    0.12\n",
       "1960   -0.03\n",
       "1980    0.26\n",
       "dtype: float64"
      ]
     },
     "execution_count": 15,
     "metadata": {},
     "output_type": "execute_result"
    }
   ],
   "source": [
    "anomaliaComIndex['1920' : '1980']"
   ]
  },
  {
   "cell_type": "markdown",
   "metadata": {},
   "source": [
    "📌 Retorna apenas os anos entre 1920 e 1980."
   ]
  },
  {
   "cell_type": "markdown",
   "metadata": {},
   "source": [
    "#### **Acessando um Ano Específico**"
   ]
  },
  {
   "cell_type": "code",
   "execution_count": 19,
   "metadata": {},
   "outputs": [
    {
     "data": {
      "text/plain": [
       "0.4"
      ]
     },
     "execution_count": 19,
     "metadata": {},
     "output_type": "execute_result"
    }
   ],
   "source": [
    "anomaliaComIndex['2000']"
   ]
  },
  {
   "cell_type": "markdown",
   "metadata": {},
   "source": [
    "📌 Retorna a anomalia térmica registrada no ano 2000."
   ]
  },
  {
   "cell_type": "markdown",
   "metadata": {},
   "source": [
    "## **2️⃣ Criando Séries a partir de um Dicionário**\n",
    "Outra abordagem comum para estruturar dados no Pandas é a utilização de **dicionários**:"
   ]
  },
  {
   "cell_type": "code",
   "execution_count": 23,
   "metadata": {},
   "outputs": [
    {
     "data": {
      "text/plain": [
       "1900   -0.08\n",
       "1920   -0.27\n",
       "1940    0.12\n",
       "1960   -0.03\n",
       "1980    0.26\n",
       "2000    0.40\n",
       "2020    1.02\n",
       "dtype: float64"
      ]
     },
     "execution_count": 23,
     "metadata": {},
     "output_type": "execute_result"
    }
   ],
   "source": [
    "dic_temperaturas = {1900: -.08, 1920: -.27, 1940: .12, 1960: -.03, 1980: .26, 2000: .40, 2020: 1.02}\n",
    "dic_temperaturasSeries = pd.Series(data=dic_temperaturas)\n",
    "dic_temperaturasSeries"
   ]
  },
  {
   "cell_type": "markdown",
   "metadata": {},
   "source": [
    "✅ **Vantagem**: Permite criar uma **Série Pandas** diretamente de um dicionário, associando valores a chaves numéricas."
   ]
  },
  {
   "cell_type": "markdown",
   "metadata": {},
   "source": [
    "## **3️⃣ Convertendo um Array NumPy em DataFrame**\n",
    "O **NumPy** é uma biblioteca poderosa para **operações numéricas** e pode ser usado para gerar **dados aleatórios** conforme uma distribuição normal.\n",
    "\n",
    "Neste caso, geramos um **array com 20 linhas e 3 colunas**, com média **100** e desvio padrão **10**:"
   ]
  },
  {
   "cell_type": "code",
   "execution_count": 27,
   "metadata": {},
   "outputs": [
    {
     "name": "stdout",
     "output_type": "stream",
     "text": [
      "             0           1           2\n",
      "0   101.074025   80.415005  113.057607\n",
      "1   120.030656   84.465960  109.093082\n",
      "2   110.412583   89.022398   92.294556\n",
      "3    91.679215   63.284082  105.271134\n",
      "4    99.053595   92.352646   94.544211\n",
      "5    96.955177  104.280250   94.305262\n",
      "6    96.217629   99.318455   91.111411\n",
      "7   104.837201   84.124178  114.998386\n",
      "8    88.621783   80.848794   95.893050\n",
      "9    98.440493  102.370581   90.160364\n",
      "10   84.862618   95.632959   96.850727\n",
      "11  106.945245  108.734835  114.674980\n",
      "12  107.284312   96.825168  114.287393\n",
      "13  115.603985  105.078482   89.436930\n",
      "14  110.550020  104.520159  102.642582\n",
      "15   88.953448  101.448746  106.690786\n",
      "16  115.686042  109.777375  111.752667\n",
      "17  100.216678  106.956086   98.951729\n",
      "18  105.473360   97.344345   84.989430\n",
      "19  107.084951   90.218878   93.276822\n"
     ]
    }
   ],
   "source": [
    "import numpy as np\n",
    "\n",
    "arr = np.random.normal(100, 10, (20,3))\n",
    "df = pd.DataFrame(arr)\n",
    "print(df)"
   ]
  },
  {
   "cell_type": "markdown",
   "metadata": {},
   "source": [
    "📌 **Resultado**: Um **DataFrame com valores aleatórios** simulando medições."
   ]
  },
  {
   "cell_type": "markdown",
   "metadata": {},
   "source": [
    "## **4️⃣ Ajustando Índices e Nomes das Colunas**\n",
    "Por padrão, as colunas recebem índices numéricos **(0, 1, 2)**. Vamos **renomeá-las** para `x1`, `x2` e `x3`, e numerar as linhas de **1 a 20**:"
   ]
  },
  {
   "cell_type": "code",
   "execution_count": 31,
   "metadata": {},
   "outputs": [
    {
     "name": "stdout",
     "output_type": "stream",
     "text": [
      "            x1          x2          x3\n",
      "1   101.074025   80.415005  113.057607\n",
      "2   120.030656   84.465960  109.093082\n",
      "3   110.412583   89.022398   92.294556\n",
      "4    91.679215   63.284082  105.271134\n",
      "5    99.053595   92.352646   94.544211\n",
      "6    96.955177  104.280250   94.305262\n",
      "7    96.217629   99.318455   91.111411\n",
      "8   104.837201   84.124178  114.998386\n",
      "9    88.621783   80.848794   95.893050\n",
      "10   98.440493  102.370581   90.160364\n",
      "11   84.862618   95.632959   96.850727\n",
      "12  106.945245  108.734835  114.674980\n",
      "13  107.284312   96.825168  114.287393\n",
      "14  115.603985  105.078482   89.436930\n",
      "15  110.550020  104.520159  102.642582\n",
      "16   88.953448  101.448746  106.690786\n",
      "17  115.686042  109.777375  111.752667\n",
      "18  100.216678  106.956086   98.951729\n",
      "19  105.473360   97.344345   84.989430\n",
      "20  107.084951   90.218878   93.276822\n"
     ]
    }
   ],
   "source": [
    "df = pd.DataFrame(arr, columns=[\"x1\", \"x2\", \"x3\"])\n",
    "df = df.rename(index=lambda x: x + 1)\n",
    "print(df)"
   ]
  },
  {
   "cell_type": "markdown",
   "metadata": {},
   "source": [
    "✅ **Benefício**: Os dados agora possuem **nomes descritivos**."
   ]
  },
  {
   "cell_type": "markdown",
   "metadata": {},
   "source": [
    "## **5️⃣ Criando Novas Colunas**\n",
    "### **Calculando a Média**\n",
    "Uma métrica útil é a **média das três colunas**, adicionada como uma nova coluna chamada `\"media\"`:"
   ]
  },
  {
   "cell_type": "code",
   "execution_count": 35,
   "metadata": {},
   "outputs": [
    {
     "name": "stdout",
     "output_type": "stream",
     "text": [
      "            x1          x2          x3       media\n",
      "1   101.074025   80.415005  113.057607   98.182212\n",
      "2   120.030656   84.465960  109.093082  104.529899\n",
      "3   110.412583   89.022398   92.294556   97.243179\n",
      "4    91.679215   63.284082  105.271134   86.744810\n",
      "5    99.053595   92.352646   94.544211   95.316817\n",
      "6    96.955177  104.280250   94.305262   98.513563\n",
      "7    96.217629   99.318455   91.111411   95.549165\n",
      "8   104.837201   84.124178  114.998386  101.319922\n",
      "9    88.621783   80.848794   95.893050   88.454542\n",
      "10   98.440493  102.370581   90.160364   96.990480\n",
      "11   84.862618   95.632959   96.850727   92.448768\n",
      "12  106.945245  108.734835  114.674980  110.118353\n",
      "13  107.284312   96.825168  114.287393  106.132291\n",
      "14  115.603985  105.078482   89.436930  103.373132\n",
      "15  110.550020  104.520159  102.642582  105.904254\n",
      "16   88.953448  101.448746  106.690786   99.030993\n",
      "17  115.686042  109.777375  111.752667  112.405361\n",
      "18  100.216678  106.956086   98.951729  102.041498\n",
      "19  105.473360   97.344345   84.989430   95.935711\n",
      "20  107.084951   90.218878   93.276822   96.860217\n"
     ]
    }
   ],
   "source": [
    "df = df.assign(media=df.mean(axis=1))\n",
    "print(df)"
   ]
  },
  {
   "cell_type": "markdown",
   "metadata": {},
   "source": [
    "📌 **Resultado**: Agora temos a média de cada linha."
   ]
  },
  {
   "cell_type": "markdown",
   "metadata": {},
   "source": [
    "### **Aplicando Logaritmo Natural**\n",
    "Em algumas análises estatísticas, pode ser útil aplicar a transformação logarítmica:"
   ]
  },
  {
   "cell_type": "code",
   "execution_count": 39,
   "metadata": {},
   "outputs": [
    {
     "name": "stdout",
     "output_type": "stream",
     "text": [
      "            x1          x2          x3       media   log_med\n",
      "1   101.074025   80.415005  113.057607   98.182212  4.586825\n",
      "2   120.030656   84.465960  109.093082  104.529899  4.649473\n",
      "3   110.412583   89.022398   92.294556   97.243179  4.577215\n",
      "4    91.679215   63.284082  105.271134   86.744810  4.462971\n",
      "5    99.053595   92.352646   94.544211   95.316817  4.557206\n",
      "6    96.955177  104.280250   94.305262   98.513563  4.590194\n",
      "7    96.217629   99.318455   91.111411   95.549165  4.559641\n",
      "8   104.837201   84.124178  114.998386  101.319922  4.618283\n",
      "9    88.621783   80.848794   95.893050   88.454542  4.482489\n",
      "10   98.440493  102.370581   90.160364   96.990480  4.574613\n",
      "11   84.862618   95.632959   96.850727   92.448768  4.526655\n",
      "12  106.945245  108.734835  114.674980  110.118353  4.701556\n",
      "13  107.284312   96.825168  114.287393  106.132291  4.664686\n",
      "14  115.603985  105.078482   89.436930  103.373132  4.638345\n",
      "15  110.550020  104.520159  102.642582  105.904254  4.662535\n",
      "16   88.953448  101.448746  106.690786   99.030993  4.595433\n",
      "17  115.686042  109.777375  111.752667  112.405361  4.722112\n",
      "18  100.216678  106.956086   98.951729  102.041498  4.625380\n",
      "19  105.473360   97.344345   84.989430   95.935711  4.563678\n",
      "20  107.084951   90.218878   93.276822   96.860217  4.573269\n"
     ]
    }
   ],
   "source": [
    "df = df.assign(log_med=np.log(df[\"media\"]))\n",
    "print(df)"
   ]
  },
  {
   "cell_type": "markdown",
   "metadata": {},
   "source": [
    "✅ **Vantagem**: O logaritmo **suaviza valores extremos**, útil para análise exploratória."
   ]
  },
  {
   "cell_type": "markdown",
   "metadata": {},
   "source": [
    "## **📊 Conclusão**\n",
    "Neste projeto, exploramos conceitos essenciais de **Pandas e NumPy** para manipulação e análise de dados:"
   ]
  },
  {
   "cell_type": "markdown",
   "metadata": {},
   "source": [
    "1️⃣ **Criação de Séries Pandas** a partir de listas e dicionários.  \n",
    "2️⃣ **Indexação eficiente** para facilitar a consulta e extração de informações.  \n",
    "3️⃣ **Conversão de arrays NumPy em DataFrames** para análise estruturada.  \n",
    "4️⃣ **Renomeação de colunas e índices** para maior clareza.  \n",
    "5️⃣ **Criação de novas colunas** para cálculos estatísticos (média e logaritmo).  "
   ]
  }
 ],
 "metadata": {
  "colab": {
   "provenance": [],
   "toc_visible": true
  },
  "kernelspec": {
   "display_name": "Python [conda env:base] *",
   "language": "python",
   "name": "conda-base-py"
  },
  "language_info": {
   "codemirror_mode": {
    "name": "ipython",
    "version": 3
   },
   "file_extension": ".py",
   "mimetype": "text/x-python",
   "name": "python",
   "nbconvert_exporter": "python",
   "pygments_lexer": "ipython3",
   "version": "3.12.7"
  }
 },
 "nbformat": 4,
 "nbformat_minor": 4
}
